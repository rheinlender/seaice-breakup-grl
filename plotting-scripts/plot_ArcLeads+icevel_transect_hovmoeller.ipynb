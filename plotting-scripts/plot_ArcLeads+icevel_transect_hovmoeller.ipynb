{
 "cells": [
  {
   "cell_type": "markdown",
   "metadata": {},
   "source": [
    "#### Plotting ArcLeads and ice velocity contours for the different WRF-expts along transect in Beaufort Sea \n",
    "\n",
    "#### Author: Jonathan Rheinlænder*\n",
    "#### Date: Aug. 27 2021\n",
    "#### Affiliation: Nansen Environmental and Remote Sensing Center, Bergen, Norway\n",
    "*jonathan.rheinlaender@nersc.no\n",
    "\n"
   ]
  },
  {
   "cell_type": "code",
   "execution_count": 1,
   "metadata": {},
   "outputs": [],
   "source": [
    "# allow plots to be interactive in the notebook\n",
    "%matplotlib inline\n",
    "import numpy as np\n",
    "import datetime as dt\n",
    "import matplotlib as mpl\n",
    "import matplotlib.pyplot as plt\n",
    "import matplotlib.dates as mdates\n",
    "import os\n",
    "from pathlib import Path  \n",
    "import sys\n",
    "import xarray as xr\n",
    "import matplotlib.colors as colors\n",
    "import cartopy.crs as ccrs\n",
    "import pyproj\n",
    "import matplotlib.gridspec as gridspec\n",
    "import cmocean\n",
    "import argparse\n",
    "import locale \n",
    "from pynextsim.projection_info import ProjectionInfo\n",
    "from pynextsim.irregular_grid_interpolator import IrregularGridInterpolator\n",
    "\n",
    "from matplotlib.colors import ListedColormap\n",
    "from scipy.interpolate import griddata"
   ]
  },
  {
   "cell_type": "code",
   "execution_count": 2,
   "metadata": {},
   "outputs": [],
   "source": [
    "# Define functions\n",
    "\n",
    "def get_transect(xr, start_time, end_time, xpoint, ypoint):\n",
    "\n",
    "    time_slice = slice(start_time, end_time)\n",
    "    x_slice = xpoint[0]\n",
    "    y_slice = slice(ypoint[0], ypoint[1])\n",
    "\n",
    "    transect = xr.sel(time=time_slice, x=x_slice, y=y_slice)\n",
    "\n",
    "    # make array of datetime objects\n",
    "    vtimes = transect.time.values.astype('datetime64[ms]').astype('O')\n",
    "\n",
    "    # Specify y values for transect\n",
    "    length = y_slice.stop - y_slice.start\n",
    "    res = 5 # 5 km grid spacing\n",
    "    ydist = np.arange(0,length*res, res) # distance in km from Banks Island (y0)\n",
    "    \n",
    "#    print(ydist.shape, vtimes.shape, transect.shape)\n",
    "\n",
    "    return ydist, vtimes, transect\n",
    "\n",
    "\n",
    "def Interp2NextsimGrid(src_x, src_y, src_field, dst_x, dst_y, method='nearest'):\n",
    "    '''\n",
    "    Parameters:\n",
    "    -----------\n",
    "    src_x : 2D np.ndarray\n",
    "        2D array (x,y) source points x-coords\n",
    "    src_y : 2D np.ndarray\n",
    "        2D array (x,y) source points y-coords    \n",
    "    src_field : 2D np.ndarray\n",
    "        Data values (x,y) on the source grid\n",
    "    dst_x : 2D np.ndarray\n",
    "        2D array (xi,yi) destination points x-coords\n",
    "    dst_y : 2D np.ndarray\n",
    "        2D array (xi,yi) destination points y-coords\n",
    "    method : {‘linear’, ‘nearest’, ‘cubic’}\n",
    "        interpolation method of scipy.interpolate.griddata (default is \"nearest\")\n",
    "\n",
    "    '''\n",
    "        \n",
    "    # flatten 2D arrays\n",
    "    points = np.array( (src_x.flatten(), src_y.flatten()) ).T\n",
    "\n",
    "    vals = src_field.flatten()\n",
    "\n",
    "    fld_interp = griddata(points, vals, (dst_x, dst_y), method=method)\n",
    "\n",
    "    return fld_interp    \n",
    "    \n",
    "    "
   ]
  },
  {
   "cell_type": "code",
   "execution_count": 3,
   "metadata": {
    "scrolled": true
   },
   "outputs": [
    {
     "name": "stdout",
     "output_type": "stream",
     "text": [
      "loading /home/rheinlender/shared-simstore-ns9829k/home/rheinlender/data/nextsim-output/breakup2013/start_20130213_nudging/expt_01_wrf10/outputs/Moorings.nc\n"
     ]
    }
   ],
   "source": [
    "# load data\n",
    "\n",
    "# setup directories \n",
    "rootdir = '/home/rheinlender/shared-simstore-ns9829k/'\n",
    "outdir =  rootdir + 'home/rheinlender/breakup-event-2013/figs/breakup-paper/'\n",
    "\n",
    "\n",
    "arcleads_dir = rootdir + 'data/ARCLEADS/'\n",
    "inpath = rootdir + 'home/rheinlender/data/nextsim-output/breakup2013/start_20130213_nudging/'\n",
    "expts = [\"expt_01_wrf10/outputs/\", \"expt_02_wrf20/outputs/\",\"expt_03_wrf40/outputs/\",\"expt_04_wrf80/outputs/\"]\n",
    "\n",
    "# open arcleads\n",
    "arcleads = xr.open_dataset(arcleads_dir + 'ArcLeads_20130101-20130430.nc')  \n",
    "latlon_grid =  xr.open_dataset(arcleads_dir + 'latlonmap.nc')\n",
    "longitude = latlon_grid['longitude'][:]\n",
    "latitude = latlon_grid['latitude'][:]\n",
    "\n",
    "arcleads['longitude'] = longitude\n",
    "arcleads['latitude'] = latitude\n",
    "\n",
    "arcleads.rename({'latitude': 'lat', 'longitude': 'lon'})\n",
    "\n",
    "# make lon and lat coordinates\n",
    "arcleads.coords['lon'] = longitude\n",
    "arcleads.coords['lat'] = latitude\n",
    "\n",
    "leadmap = arcleads.leadMap\n",
    "#leadmap.assign_coords({\"lon\":arcleads.longitude, \"lat\":arcleads.latitude})\n",
    "\n",
    "# Open neXtSIM data\n",
    "fl = inpath + expts[0] + 'Moorings.nc'\n",
    "print(\"loading\", fl)\n",
    "\n",
    "mooring = xr.open_dataset(fl) # load data\n",
    "nlon = mooring.longitude.values\n",
    "nlat = mooring.latitude.values"
   ]
  },
  {
   "cell_type": "code",
   "execution_count": 4,
   "metadata": {},
   "outputs": [
    {
     "name": "stdout",
     "output_type": "stream",
     "text": [
      "(120, 647, 719)\n",
      "Interpolation done!\n"
     ]
    },
    {
     "name": "stderr",
     "output_type": "stream",
     "text": [
      "<ipython-input-4-783a66ffb022>:30: RuntimeWarning: Converting a CFTimeIndex with dates from a non-standard calendar, 'noleap', to a pandas.DatetimeIndex, which uses dates from the standard calendar.  This may lead to subtle errors in operations that depend on the length of time between dates.\n",
      "  time = arcleads.indexes['time'].to_datetimeindex()\n"
     ]
    }
   ],
   "source": [
    "# regridding the Arcleads product to the Nextsim grid\n",
    "\n",
    "proj = ProjectionInfo() # default nextsim projection\n",
    "\n",
    "# get destination grid; x and y grid from nextsim\n",
    "dst_x,dst_y = proj.pyproj(nlon, nlat) # init grid using x,y coords of grid\n",
    "\n",
    "# get source grid; Project lon and lat from Arcleads to x,y grid using nextsim projection\n",
    "src_x,src_y = proj.pyproj(arcleads['longitude'].values, arcleads['latitude'].values) \n",
    "\n",
    "#  source field\n",
    "src_f = arcleads.leadMap\n",
    "\n",
    "# use the shape from dst grid\n",
    "nx,ny = dst_x.shape\n",
    "nt = src_f.shape[0] \n",
    "dst_f = np.zeros((nt, nx, ny))\n",
    "print(dst_f.shape)\n",
    "\n",
    "# loop over time axis in source field\n",
    "for t,time in enumerate(src_f.time):\n",
    "    \n",
    "    vals = src_f.isel(time=[t]).squeeze().values\n",
    "    \n",
    "    dst_f[t,:,:] = Interp2NextsimGrid(src_x, src_y, vals, dst_x, dst_y, method='nearest')\n",
    "print('Interpolation done!')\n",
    "\n",
    "# convert interpolated leadmap product back to DataArray\n",
    "leadmap = dst_f\n",
    "time = arcleads.indexes['time'].to_datetimeindex()\n",
    "surface_classes = arcleads.attrs['surface classes']\n",
    "\n",
    "ds = xr.Dataset(   \n",
    "    data_vars=dict(\n",
    "        leadmap=([\"time\", \"y\", \"x\"], leadmap)    ),\n",
    "    coords=dict(\n",
    "        time=time,    ),\n",
    "    attrs=dict(\n",
    "        description=\"ArcLeads product interpolated on to the nextsim grid.\",\n",
    "        surface_classes= surface_classes),\n",
    ")\n"
   ]
  },
  {
   "cell_type": "code",
   "execution_count": 5,
   "metadata": {},
   "outputs": [
    {
     "name": "stdout",
     "output_type": "stream",
     "text": [
      "Get transect from 2013-02-13 to 2013-03-13\n"
     ]
    }
   ],
   "source": [
    "\n",
    "# Create slice variables for transect\n",
    "start_time = '2013-02-13'\n",
    "end_time = '2013-03-13'\n",
    "xpoint = (100, 100)\n",
    "ypoint = (180, 450)\n",
    "\n",
    "print(\"Get transect from\", start_time, \"to\", end_time)\n",
    "yvals, vtimes, lead_trans = get_transect(ds['leadmap'],start_time, end_time, xpoint, ypoint)\n"
   ]
  },
  {
   "cell_type": "code",
   "execution_count": 6,
   "metadata": {},
   "outputs": [
    {
     "name": "stdout",
     "output_type": "stream",
     "text": [
      "loading /home/rheinlender/shared-simstore-ns9829k/home/rheinlender/data/nextsim-output/breakup2013/start_20130213_nudging/expt_01_wrf10/outputs/Moorings.nc\n"
     ]
    },
    {
     "name": "stderr",
     "output_type": "stream",
     "text": [
      "<ipython-input-6-7d03ca647093>:14: MatplotlibDeprecationWarning: shading='flat' when X and Y have the same dimensions as C is deprecated since 3.3.  Either specify the corners of the quadrilaterals with X and Y, or pass shading='auto', 'nearest' or 'gouraud', or set rcParams['pcolor.shading'].  This will become an error two minor releases later.\n",
      "  im = ax.pcolormesh(vtimes, yvals, leadmsk.transpose(), cmap=cm_binary, shading='flat', alpha=0.5)\n"
     ]
    },
    {
     "name": "stdout",
     "output_type": "stream",
     "text": [
      "loading /home/rheinlender/shared-simstore-ns9829k/home/rheinlender/data/nextsim-output/breakup2013/start_20130213_nudging/expt_02_wrf20/outputs/Moorings.nc\n",
      "loading /home/rheinlender/shared-simstore-ns9829k/home/rheinlender/data/nextsim-output/breakup2013/start_20130213_nudging/expt_03_wrf40/outputs/Moorings.nc\n",
      "loading /home/rheinlender/shared-simstore-ns9829k/home/rheinlender/data/nextsim-output/breakup2013/start_20130213_nudging/expt_04_wrf80/outputs/Moorings.nc\n"
     ]
    },
    {
     "data": {
      "image/png": "[encoded data removed]",
      "text/plain": [
       "<Figure size 432x360 with 1 Axes>"
      ]
     },
     "metadata": {
      "needs_background": "light"
     },
     "output_type": "display_data"
    },
    {
     "name": "stdout",
     "output_type": "stream",
     "text": [
      "Saving /home/rheinlender/shared-simstore-ns9829k/home/rheinlender/breakup-event-2013/figs/breakup-paper/MODISleads_icevel_0.05contour_transect_beaufort_all-expts.png\n"
     ]
    }
   ],
   "source": [
    "# Plot leads along transect and overlay ice velocity\n",
    "plt.close('all')\n",
    "\n",
    "# mask leads (leads=4)\n",
    "leadmsk = xr.where(lead_trans==4, 1, 0)\n",
    "\n",
    "cm_binary = plt.cm.get_cmap('binary')\n",
    "\n",
    "\n",
    "fig, ax = plt.subplots(1,1,figsize=(6,5)) \n",
    "fig.subplots_adjust(bottom=0.0, top=0.98, left=0.13, right=0.88, wspace=0.08, hspace=0.0001)\n",
    "\n",
    "# Plot leads from MODIS\n",
    "im = ax.pcolormesh(vtimes, yvals, leadmsk.transpose(), cmap=cm_binary, shading='flat', alpha=0.5)\n",
    "\n",
    "# overlay contour of ice velocity\n",
    "clevs = [0.05]\n",
    "cmap = plt.get_cmap(\"tab10\")\n",
    "expts_names = [\"wrf10\", \"wrf20\",\"wrf40\",\"wrf80\"]\n",
    "\n",
    "for i, dirs in enumerate(expts):\n",
    "    fl = inpath + dirs + 'Moorings.nc'\n",
    "    print(\"loading\", fl)\n",
    "\n",
    "    xa = xr.open_dataset(fl) # load data\n",
    "\n",
    "    # calculate ice velocity \n",
    "    xa['icevel'] = (xa['siu']**2 + xa['siv']**2)**0.5\n",
    "\n",
    "    # get transect\n",
    "    yvals2, vtimes2, icevel_trans = get_transect(xa['icevel'], start_time, end_time, xpoint, ypoint)\n",
    "\n",
    "    # plot contour\n",
    "    cline = ax.contour(vtimes2, yvals2, icevel_trans.transpose(), levels=clevs)\n",
    "    cline.collections[0].set_color(cmap(i))\n",
    "    cline.collections[0].set_label(expts_names[i]) # setting the label for legend\n",
    "\n",
    "    #if i>=1 and i<3: # thin lines for wrf20 and wrf40\n",
    "    #    cline.collections[0].set_linewidth(0.5)\n",
    "\n",
    "# set labels\n",
    "days = mdates.DayLocator()  # every day\n",
    "dtFmt = mdates.DateFormatter('%b %d') # define the formatting \n",
    "ax.xaxis.set_major_formatter(dtFmt)\n",
    "ax.xaxis.set_minor_locator(days)\n",
    "#ax.set_ylabel(\"y\")\n",
    "ax.yaxis.set_ticks(np.arange(yvals[0], yvals[-1], step=300))  # Set label locations.\n",
    "\n",
    "# add legend \n",
    "plt.legend(loc='lower left')\n",
    "ax.grid(linestyle=\"--\", alpha=0.3)\n",
    "ax.set_xlim(vtimes2[0], vtimes2[-1])\n",
    "\n",
    "#fig.subplots_adjust(bottom=0.18, top=0.90, left=0.08, right=0.9, wspace=0.01, hspace=0.01)\n",
    "ax.set_position([0.13, 0.1088900986578969, 0.75, 0.3266594080526176])\n",
    "plt.show()\n",
    "\n",
    "\n",
    "# save figure\n",
    "figname = os.path.join(outdir, 'MODISleads_icevel_0.05contour_transect_beaufort_all-expts.png')\n",
    "os.makedirs(os.path.dirname(figname), exist_ok=True)\n",
    "print(f'Saving {figname}')\n",
    "#fig.savefig(figname,dpi=300, bbox_inches='tight')"
   ]
  },
  {
   "cell_type": "code",
   "execution_count": 7,
   "metadata": {},
   "outputs": [],
   "source": [
    "fig.savefig(figname,dpi=300, bbox_inches='tight')"
   ]
  }
 ],
 "metadata": {
  "kernelspec": {
   "display_name": "Python 3 (pynextsim)",
   "language": "python",
   "name": "pynextsim"
  },
  "language_info": {
   "codemirror_mode": {
    "name": "ipython",
    "version": 3
   },
   "file_extension": ".py",
   "mimetype": "text/x-python",
   "name": "python",
   "nbconvert_exporter": "python",
   "pygments_lexer": "ipython3",
   "version": "3.9.4"
  }
 },
 "nbformat": 4,
 "nbformat_minor": 4
}
